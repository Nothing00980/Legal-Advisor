{
 "cells": [
  {
   "cell_type": "code",
   "execution_count": null,
   "metadata": {},
   "outputs": [],
   "source": [
    "# Install required libraries\n",
    "!pip install transformers datasets torch"
   ]
  },
  {
   "cell_type": "code",
   "execution_count": null,
   "metadata": {},
   "outputs": [],
   "source": [
    "# Import necessary libraries\n",
    "import torch\n",
    "from transformers import BertTokenizer, BertForSequenceClassification, Trainer, TrainingArguments\n",
    "from datasets import load_dataset, Dataset\n",
    "from sklearn.model_selection import train_test_split\n",
    "from sklearn.metrics import accuracy_score, precision_recall_fscore_support"
   ]
  },
  {
   "cell_type": "code",
   "execution_count": null,
   "metadata": {},
   "outputs": [],
   "source": [
    "import os\n",
    "\n",
    "# Folder containing the text files\n",
    "folder_path = 'data/raw/acts'\n",
    "\n",
    "# List to store the contents of each act\n",
    "documents = []\n",
    "\n",
    "# Iterate over files in the folder\n",
    "for filename in os.listdir(folder_path):\n",
    "    if filename.endswith(\".txt\"):\n",
    "        with open(os.path.join(folder_path, filename), 'r', encoding='utf-8') as file:\n",
    "            documents.append(file.read())\n"
   ]
  },
  {
   "cell_type": "code",
   "execution_count": null,
   "metadata": {},
   "outputs": [],
   "source": [
    "# our data is in a text file or DataFrame with a 'text' column\n",
    "import pandas as pd\n",
    "from datasets import Dataset\n",
    "\n",
    "data = pd.read_csv('data/raw/acts/section_Admiralty Court Act, 1861.txt')  # unsupervised learning data in form of basic text.\n",
    "dataset = Dataset.from_pandas(data)\n",
    "\n",
    "# Tokenization\n",
    "def tokenize_function(examples):\n",
    "    return tokenizer(examples['text'], padding=\"max_length\", truncation=True)\n",
    "\n",
    "# Tokenize the dataset\n",
    "tokenized_dataset = dataset.map(tokenize_function, batched=True)\n",
    "\n",
    "# Train/test split (optional, if your dataset contains labels)\n",
    "train_dataset, test_dataset = tokenized_dataset.train_test_split(test_size=0.2).values()\n"
   ]
  },
  {
   "cell_type": "code",
   "execution_count": null,
   "metadata": {},
   "outputs": [],
   "source": [
    "from transformers import BertTokenizer\n",
    "\n",
    "# Load the BERT tokenizer\n",
    "tokenizer = BertTokenizer.from_pretrained('nlpaueb/legal-bert-base-uncased')\n",
    "\n",
    "# Tokenize the documents\n",
    "encoded_inputs = tokenizer(documents, padding=True, truncation=True, return_tensors=\"pt\", max_length=512)\n"
   ]
  },
  {
   "cell_type": "code",
   "execution_count": null,
   "metadata": {},
   "outputs": [],
   "source": [
    "from transformers import BertModel\n",
    "\n",
    "# Load the pre-trained Legal BERT model\n",
    "model = BertModel.from_pretrained('nlpaueb/legal-bert-base-uncased')\n",
    "\n",
    "# Get the embeddings (feature vectors)\n",
    "with torch.no_grad():  # No need to compute gradients for inference\n",
    "    embeddings = model(**encoded_inputs).last_hidden_state\n"
   ]
  },
  {
   "cell_type": "code",
   "execution_count": null,
   "metadata": {},
   "outputs": [],
   "source": [
    "from transformers import BertForMaskedLM, Trainer, TrainingArguments\n",
    "\n",
    "# Load the BERT model for masked language modeling (MLM)\n",
    "model_mlm = BertForMaskedLM.from_pretrained('nlpaueb/legal-bert-base-uncased')\n",
    "\n",
    "# Training arguments\n",
    "training_args = TrainingArguments(\n",
    "    output_dir='./results',\n",
    "    per_device_train_batch_size=8,\n",
    "    num_train_epochs=3,\n",
    "    logging_dir='./logs',\n",
    "    logging_steps=10,\n",
    ")\n",
    "\n",
    "# Create a dataset from your encoded inputs\n",
    "from torch.utils.data import Dataset, DataLoader\n",
    "\n",
    "class LegalDataset(Dataset):\n",
    "    def __init__(self, encodings):\n",
    "        self.encodings = encodings\n",
    "    \n",
    "    def __getitem__(self, idx):\n",
    "        return {key: tensor[idx] for key, tensor in self.encodings.items()}\n",
    "    \n",
    "    def __len__(self):\n",
    "        return len(self.encodings['input_ids'])\n",
    "\n",
    "# Create Dataset and DataLoader\n",
    "train_dataset = LegalDataset(encoded_inputs)\n",
    "train_loader = DataLoader(train_dataset, batch_size=8)\n",
    "\n",
    "# Initialize the Trainer for MLM\n",
    "trainer = Trainer(\n",
    "    model=model_mlm,\n",
    "    args=training_args,\n",
    "    train_dataset=train_dataset\n",
    ")\n",
    "\n",
    "# Fine-tune the model using MLM\n",
    "trainer.train()\n"
   ]
  },
  {
   "cell_type": "code",
   "execution_count": null,
   "metadata": {},
   "outputs": [],
   "source": [
    "def query_legal_advisor(query):\n",
    "    inputs = tokenizer(query, return_tensors='pt', padding=True, truncation=True, max_length=512)\n",
    "    with torch.no_grad():\n",
    "        outputs = model_mlm(**inputs)\n",
    "        predictions = outputs.logits\n",
    "    return tokenizer.decode(torch.argmax(predictions, dim=-1)[0])\n",
    "\n",
    "# Example legal query\n",
    "user_query = \"What is the punishment for theft under the criminal law?\"\n",
    "response = query_legal_advisor(user_query)\n",
    "print(f'Response: {response}')\n"
   ]
  }
 ],
 "metadata": {
  "kernelspec": {
   "display_name": "deeplearnenv",
   "language": "python",
   "name": "python3"
  },
  "language_info": {
   "codemirror_mode": {
    "name": "ipython",
    "version": 3
   },
   "file_extension": ".py",
   "mimetype": "text/x-python",
   "name": "python",
   "nbconvert_exporter": "python",
   "pygments_lexer": "ipython3",
   "version": "3.12.5"
  }
 },
 "nbformat": 4,
 "nbformat_minor": 2
}
